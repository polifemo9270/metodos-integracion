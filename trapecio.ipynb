{
 "cells": [
  {
   "attachments": {},
   "cell_type": "markdown",
   "metadata": {},
   "source": [
    "# Metodo del Trapecio\n",
    "\n",
    "Para la aproximación de Integrales. Sea $n \\in \\mathbb{Z}$ y $h = \\dfrac{b-a}{n}$ entonces\n",
    "\n",
    "$$ \\int_a^b f(x) \\, dx \\approx h \\left(\\sum_{i=1}^{n-1}f(a +ih) + \\frac{f(b) + f(a)}{2} \\right) $$"
   ]
  },
  {
   "cell_type": "code",
   "execution_count": 4,
   "metadata": {},
   "outputs": [],
   "source": [
    "def Trapecio(f, a, b, n):\n",
    "    h = (b-a)/float(n)\n",
    "    s = (f(b)+f(a))*0.5\n",
    "    for i in range(1, n):\n",
    "        s += f(a+i*h)\n",
    "    return h*s"
   ]
  },
  {
   "attachments": {},
   "cell_type": "markdown",
   "metadata": {},
   "source": [
    "Aplicandolo a la función $f(x) = x^3 -4x^2 + 4x$"
   ]
  },
  {
   "cell_type": "code",
   "execution_count": 10,
   "metadata": {},
   "outputs": [
    {
     "name": "stdout",
     "output_type": "stream",
     "text": [
      "2.25054931640625\n"
     ]
    }
   ],
   "source": [
    "def f(x):\n",
    "    return x**3 -4*(x**2)+4*x\n",
    "\n",
    "print(Trapecio(f, 0, 3, 64))"
   ]
  },
  {
   "cell_type": "code",
   "execution_count": null,
   "metadata": {},
   "outputs": [],
   "source": []
  }
 ],
 "metadata": {
  "kernelspec": {
   "display_name": "Python 3",
   "language": "python",
   "name": "python3"
  },
  "language_info": {
   "codemirror_mode": {
    "name": "ipython",
    "version": 3
   },
   "file_extension": ".py",
   "mimetype": "text/x-python",
   "name": "python",
   "nbconvert_exporter": "python",
   "pygments_lexer": "ipython3",
   "version": "3.11.0"
  },
  "orig_nbformat": 4
 },
 "nbformat": 4,
 "nbformat_minor": 2
}
