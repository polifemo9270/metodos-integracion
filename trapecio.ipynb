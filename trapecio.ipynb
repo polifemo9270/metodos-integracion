{
 "cells": [
  {
   "attachments": {},
   "cell_type": "markdown",
   "metadata": {},
   "source": [
    "# Metodo del Trapecio\n",
    "\n",
    "Sea $n \\in \\mathbb{N}$, $a, b \\in \\mathbb{R}$ tales que $ a < b$, entonces $h = \\dfrac{b-a}{n}$ y podemos aproximar la integral con la formula\n",
    "\n",
    "$$ \\int_a^b f(x) \\, dx \\approx h \\left(\\sum_{i=1}^{n-1}f(a +ih) + \\frac{f(b) + f(a)}{2} \\right) $$\n",
    "\n",
    "La cual es equivalente a la función"
   ]
  },
  {
   "cell_type": "code",
   "execution_count": 14,
   "metadata": {},
   "outputs": [],
   "source": [
    "def Trapecio(f, a, b, n):\n",
    "    h = (b-a)/float(n)\n",
    "    s = (f(b)+f(a))*0.5\n",
    "    for i in range(1, n):\n",
    "        s += f(a+i*h)\n",
    "    return h*s"
   ]
  },
  {
   "attachments": {},
   "cell_type": "markdown",
   "metadata": {},
   "source": [
    "Por ejemplo si integramos a la función $f(x) = x^3 -4x^2 + 4x$ en el intervalo $[0, 3]$ obtenemos\n",
    "$$ \\int_0^3 x^3 -4x^2 + 4x \\, dx = \\dfrac{1}{4}x^4 - \\dfrac{4}{3}x^3 + 2x^2\\bigg\\vert_0^3=\\dfrac{9}{4} = 2.25$$\n",
    "Si aplicamos el metodo del trapecio a la función $f$ en el intervalo $[0, 3]$ con $64$ subintervalos"
   ]
  },
  {
   "cell_type": "code",
   "execution_count": 15,
   "metadata": {},
   "outputs": [
    {
     "name": "stdout",
     "output_type": "stream",
     "text": [
      "El area aproximada es 2.25054931640625 con un error de 0.00054931640625\n"
     ]
    }
   ],
   "source": [
    "def f(x):\n",
    "    return x**3 -4*(x**2)+4*x\n",
    "\n",
    "I = Trapecio(f, 0, 3, 64)\n",
    "\n",
    "print(f\"El area aproximada es {I} con un error de {I - 2.25}\")"
   ]
  }
 ],
 "metadata": {
  "kernelspec": {
   "display_name": "Python 3",
   "language": "python",
   "name": "python3"
  },
  "language_info": {
   "codemirror_mode": {
    "name": "ipython",
    "version": 3
   },
   "file_extension": ".py",
   "mimetype": "text/x-python",
   "name": "python",
   "nbconvert_exporter": "python",
   "pygments_lexer": "ipython3",
   "version": "3.11.0"
  },
  "orig_nbformat": 4
 },
 "nbformat": 4,
 "nbformat_minor": 2
}
